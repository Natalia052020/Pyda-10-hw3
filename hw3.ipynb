{
 "cells": [
  {
   "cell_type": "code",
   "execution_count": null,
   "metadata": {},
   "outputs": [],
   "source": [
    "#Задача 1. Дано слово из латинских букв. \n",
    "#Напишите скрипт, который выводит на экран букву из середины слова (если число букв нечетное). \n",
    "#Если букв четное число, то на экран выводятся две буквы из середины.\n",
    "#Пример: для 'test' должно выводится 'es', для 'testing' - 't'"
   ]
  },
  {
   "cell_type": "code",
   "execution_count": 5,
   "metadata": {},
   "outputs": [
    {
     "name": "stdout",
     "output_type": "stream",
     "text": [
      "Введите слово: testing\n",
      "t\n"
     ]
    }
   ],
   "source": [
    "word = str(input('Введите слово: '))\n",
    "word_len = len(word)\n",
    "word_len_is_even = word_len % 2 == 0\n",
    "if word_len_is_even:\n",
    "  first_char_index = int(word_len / 2 - 1)\n",
    "  print(word[first_char_index:first_char_index + 2])\n",
    "else:\n",
    "  print(word[int(word_len / 2)])"
   ]
  },
  {
   "cell_type": "code",
   "execution_count": 3,
   "metadata": {},
   "outputs": [],
   "source": [
    "#Задача 2. Мы делаем MVP dating-сервиса, и у нас есть список парней и девушек (их число может варьироваться):\n",
    "\n",
    "#In [9]:\n",
    "#boys = ['Peter', 'Alex', 'John', 'Arthur', 'Richard']\n",
    "#girls = ['Kate', 'Liza', 'Kira', 'Emma', 'Trisha']\n",
    "#Выдвигаем гипотезу: лучшие рекомендации мы получим, если просто отсортируем имена по алфавиту и познакомим \n",
    "#людей с одинаковыми индексами после сортировки! \"Познакомить\" пары нам поможет функция zip, \n",
    "#а в цикле распакуем zip-объект и выведем информацию в виде:\n",
    "\n",
    "#Идеальные пары:\n",
    "#Alex и Emma\n",
    "#Arthur и Kate\n",
    "#John и Kira\n",
    "#Peter и Liza\n",
    "#Richard и Trisha\n",
    "\n",
    "#Внимание! Если количество людей в списках будет не совпадать, то мы никого знакомить не будет \n",
    "#и выведем пользователю предупреждение, что кто-то может остаться без пары!"
   ]
  },
  {
   "cell_type": "code",
   "execution_count": null,
   "metadata": {},
   "outputs": [],
   "source": [
    "#boys = ['Peter', 'Alex', 'John', 'Arthur', 'Richard']\n",
    "#girls = ['Kate', 'Liza', 'Kira', 'Emma', 'Trisha']"
   ]
  },
  {
   "cell_type": "code",
   "execution_count": 11,
   "metadata": {},
   "outputs": [
    {
     "data": {
      "text/plain": [
       "['Alex', 'Arthur', 'John', 'Peter', 'Richard']"
      ]
     },
     "execution_count": 11,
     "metadata": {},
     "output_type": "execute_result"
    }
   ],
   "source": [
    "boys = ['Peter', 'Alex', 'John', 'Arthur', 'Richard']\n",
    "sorted(boys)"
   ]
  },
  {
   "cell_type": "code",
   "execution_count": 12,
   "metadata": {},
   "outputs": [
    {
     "data": {
      "text/plain": [
       "['Emma', 'Kate', 'Kira', 'Liza', 'Trisha']"
      ]
     },
     "execution_count": 12,
     "metadata": {},
     "output_type": "execute_result"
    }
   ],
   "source": [
    "girls = ['Kate', 'Liza', 'Kira', 'Emma', 'Trisha']\n",
    "sorted(girls)"
   ]
  },
  {
   "cell_type": "code",
   "execution_count": 28,
   "metadata": {},
   "outputs": [
    {
     "name": "stdout",
     "output_type": "stream",
     "text": [
      "Alex и Emma\n",
      "Arthur и Kate\n",
      "John и Kira\n",
      "Peter и Liza\n",
      "Richard и Trisha\n"
     ]
    }
   ],
   "source": [
    "boys = ['Alex', 'Arthur', 'John', 'Peter', 'Richard']\n",
    "girls = ['Emma', 'Kate', 'Kira', 'Liza', 'Trisha']\n",
    "boys_girls = zip (boys, girls)\n",
    "if len(boys) != len(girls) :\n",
    "    print ('Кто-то может остаться без пары')\n",
    "for names in boys_girls:\n",
    "    print ( names[0], 'и', names[1])"
   ]
  },
  {
   "cell_type": "code",
   "execution_count": null,
   "metadata": {},
   "outputs": [],
   "source": [
    "#Задача 3. У нас есть список, содержащий информацию о среднедневной температуре в Фаренгейтах за недельный период по странам.\n",
    "#Необходимо написать код, который рассчитает среднюю температуру за неделю в Цельсиях для каждой страны."
   ]
  },
  {
   "cell_type": "code",
   "execution_count": 72,
   "metadata": {},
   "outputs": [
    {
     "name": "stdout",
     "output_type": "stream",
     "text": [
      "Thailand Среднедневная темперарура в Цельсиях =  39.00\n",
      "Germany Среднедневная темперарура в Цельсиях =  28.86\n",
      "Russia Среднедневная темперарура в Цельсиях =  18.86\n",
      "Poland Среднедневная темперарура в Цельсиях =  27.00\n"
     ]
    }
   ],
   "source": [
    "countries_temperature = [\n",
    "['Thailand', [75.2, 77, 78.8, 73.4, 68, 75.2, 77]],\n",
    "['Germany', [57.2, 55.4, 59, 59, 53.6, 55.4, 57.2]],\n",
    "['Russia', [35.6, 37.4, 39.2, 41, 42.8, 39.2, 35.6]],\n",
    "['Poland', [50, 50, 53.6, 57.2, 55.4, 55.4, 51.8]],\n",
    "]\n",
    "\n",
    "for country in countries_temperature:\n",
    "    print( country[0], 'Среднедневная темперарура в Цельсиях = ', f\"{((sum (country[1])) - 32)* 5//9 / 7:.2f}\")\n",
    "   \n",
    "    "
   ]
  },
  {
   "cell_type": "code",
   "execution_count": 90,
   "metadata": {},
   "outputs": [],
   "source": [
    "#Задача 4. Дан поток логов по количеству просмотренных страниц для каждого пользователя. \n",
    "#Список отсортирован по ID пользователя. Вам необходимо написать алгоритм, который считает среднее значение просмотров \n",
    "#на пользователя. Т. е. надо посчитать отношение суммы всех просмотров к количеству уникальных пользователей.\n"
   ]
  },
  {
   "cell_type": "code",
   "execution_count": 5,
   "metadata": {},
   "outputs": [
    {
     "name": "stdout",
     "output_type": "stream",
     "text": [
      "23.25\n"
     ]
    }
   ],
   "source": [
    "stream = [\n",
    "    '2018-01-01,user1,3',\n",
    "    '2018-01-07,user1,4',\n",
    "    '2018-03-29,user1,1',\n",
    "    '2018-04-04,user1,13',\n",
    "    '2018-01-05,user2,7',\n",
    "    '2018-06-14,user3,4',\n",
    "    '2018-07-02,user3,10',\n",
    "    '2018-03-21,user4,19',\n",
    "    '2018-03-22,user4,4',\n",
    "    '2018-04-22,user4,8',\n",
    "    '2018-05-03,user4,9',\n",
    "    '2018-05-11,user4,11',\n",
    "]\n",
    "\n",
    "users = []\n",
    "sum_views = 0\n",
    "for user in stream:\n",
    "    user_split = user.split(',')\n",
    "    #print (user_split)\n",
    "    sum_views += int(user_split[2])\n",
    "   # print (sum_views)\n",
    "    if user_split[1] not in users:\n",
    "        users.append (user_split[1])\n",
    "        #print (users)\n",
    "average = sum_views / len(users)\n",
    "print (average)\n",
    "    "
   ]
  },
  {
   "cell_type": "code",
   "execution_count": 49,
   "metadata": {},
   "outputs": [],
   "source": [
    "#Задача 5. Дана статистика рекламных кампаний по дням. Напишите алгоритм, который по паре дата-кампания \n",
    "#ищет значение численного столбца. Т. е. для даты '2018-01-01' и 'google' нужно получить число 25. \n",
    "#Считайте, что все комбинации дата-кампания уникальны."
   ]
  },
  {
   "cell_type": "code",
   "execution_count": 25,
   "metadata": {},
   "outputs": [
    {
     "name": "stdout",
     "output_type": "stream",
     "text": [
      "date : 2018-01-01\n",
      "company : google\n",
      "Просмотры: 25\n"
     ]
    }
   ],
   "source": [
    "stats = [\n",
    "    ['2018-01-01', 'google', 25],\n",
    "    ['2018-01-01', 'yandex', 65],\n",
    "    ['2018-01-01', 'market', 89],\n",
    "    ['2018-01-02', 'google', 574],\n",
    "    ['2018-01-02', 'yandex', 249],\n",
    "    ['2018-01-02', 'market', 994],\n",
    "    ['2018-01-03', 'google', 1843],\n",
    "    ['2018-01-03', 'yandex', 1327],\n",
    "    ['2018-01-03', 'market', 1764],\n",
    "]\n",
    "\n",
    "date = input('date : ')\n",
    "company = input('company : ')\n",
    "results = None\n",
    "\n",
    "for el in stats:\n",
    "    if (el[0] == date) and (el[1] == company):\n",
    "        print(f'Просмотры: {el[2]}')\n",
    "        break\n",
    "    if (date != el[0] and company != el[1]):\n",
    "        print('Соответствие не найдено')\n"
   ]
  },
  {
   "cell_type": "code",
   "execution_count": null,
   "metadata": {},
   "outputs": [],
   "source": [
    "#Задача 6. Дан список вида:\n",
    "#Напишите код, который будет вычислять сумму элементов на диагонали. Т. е. 13+32+23+35.\n",
    "#Список может быть любой длины, но всегда является \"квадратным\" (количество элементов во вложенных списках равно их количеству)."
   ]
  },
  {
   "cell_type": "code",
   "execution_count": 40,
   "metadata": {},
   "outputs": [
    {
     "name": "stdout",
     "output_type": "stream",
     "text": [
      "[13, 32, 23, 35]\n",
      "103\n"
     ]
    }
   ],
   "source": [
    "data = [\n",
    "    [13, 25, 23, 34],\n",
    "    [45, 32, 44, 47],\n",
    "    [12, 33, 23, 95],\n",
    "    [13, 53, 34, 35]\n",
    "]\n",
    "result = []\n",
    "\n",
    "for i, el in enumerate(data):\n",
    "    el = result.append(el[i])\n",
    "print(result)\n",
    "print (sum(result))"
   ]
  },
  {
   "cell_type": "code",
   "execution_count": null,
   "metadata": {},
   "outputs": [],
   "source": []
  }
 ],
 "metadata": {
  "kernelspec": {
   "display_name": "Python 3",
   "language": "python",
   "name": "python3"
  },
  "language_info": {
   "codemirror_mode": {
    "name": "ipython",
    "version": 3
   },
   "file_extension": ".py",
   "mimetype": "text/x-python",
   "name": "python",
   "nbconvert_exporter": "python",
   "pygments_lexer": "ipython3",
   "version": "3.7.6"
  }
 },
 "nbformat": 4,
 "nbformat_minor": 4
}
